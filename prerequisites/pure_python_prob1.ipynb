{
 "cells": [
  {
   "cell_type": "code",
   "execution_count": 309,
   "id": "1b04c41a",
   "metadata": {},
   "outputs": [],
   "source": [
    "import pandas as pd\n",
    "import random\n",
    "import pickle\n",
    "import time\n"
   ]
  },
  {
   "cell_type": "code",
   "execution_count": 310,
   "id": "8dcb3252",
   "metadata": {},
   "outputs": [],
   "source": [
    "df = pd.read_csv(r\"/home/abhishek/Desktop/24144001_CSOC_IG/prerequisites/housing.csv\")"
   ]
  },
  {
   "cell_type": "code",
   "execution_count": 311,
   "id": "117829f9",
   "metadata": {},
   "outputs": [
    {
     "data": {
      "text/html": [
       "<div>\n",
       "<style scoped>\n",
       "    .dataframe tbody tr th:only-of-type {\n",
       "        vertical-align: middle;\n",
       "    }\n",
       "\n",
       "    .dataframe tbody tr th {\n",
       "        vertical-align: top;\n",
       "    }\n",
       "\n",
       "    .dataframe thead th {\n",
       "        text-align: right;\n",
       "    }\n",
       "</style>\n",
       "<table border=\"1\" class=\"dataframe\">\n",
       "  <thead>\n",
       "    <tr style=\"text-align: right;\">\n",
       "      <th></th>\n",
       "      <th>longitude</th>\n",
       "      <th>latitude</th>\n",
       "      <th>housing_median_age</th>\n",
       "      <th>total_rooms</th>\n",
       "      <th>total_bedrooms</th>\n",
       "      <th>population</th>\n",
       "      <th>households</th>\n",
       "      <th>median_income</th>\n",
       "      <th>median_house_value</th>\n",
       "      <th>ocean_proximity</th>\n",
       "    </tr>\n",
       "  </thead>\n",
       "  <tbody>\n",
       "    <tr>\n",
       "      <th>0</th>\n",
       "      <td>-122.23</td>\n",
       "      <td>37.88</td>\n",
       "      <td>41.0</td>\n",
       "      <td>880.0</td>\n",
       "      <td>129.0</td>\n",
       "      <td>322.0</td>\n",
       "      <td>126.0</td>\n",
       "      <td>8.3252</td>\n",
       "      <td>452600.0</td>\n",
       "      <td>NEAR BAY</td>\n",
       "    </tr>\n",
       "    <tr>\n",
       "      <th>1</th>\n",
       "      <td>-122.22</td>\n",
       "      <td>37.86</td>\n",
       "      <td>21.0</td>\n",
       "      <td>7099.0</td>\n",
       "      <td>1106.0</td>\n",
       "      <td>2401.0</td>\n",
       "      <td>1138.0</td>\n",
       "      <td>8.3014</td>\n",
       "      <td>358500.0</td>\n",
       "      <td>NEAR BAY</td>\n",
       "    </tr>\n",
       "    <tr>\n",
       "      <th>2</th>\n",
       "      <td>-122.24</td>\n",
       "      <td>37.85</td>\n",
       "      <td>52.0</td>\n",
       "      <td>1467.0</td>\n",
       "      <td>190.0</td>\n",
       "      <td>496.0</td>\n",
       "      <td>177.0</td>\n",
       "      <td>7.2574</td>\n",
       "      <td>352100.0</td>\n",
       "      <td>NEAR BAY</td>\n",
       "    </tr>\n",
       "    <tr>\n",
       "      <th>3</th>\n",
       "      <td>-122.25</td>\n",
       "      <td>37.85</td>\n",
       "      <td>52.0</td>\n",
       "      <td>1274.0</td>\n",
       "      <td>235.0</td>\n",
       "      <td>558.0</td>\n",
       "      <td>219.0</td>\n",
       "      <td>5.6431</td>\n",
       "      <td>341300.0</td>\n",
       "      <td>NEAR BAY</td>\n",
       "    </tr>\n",
       "    <tr>\n",
       "      <th>4</th>\n",
       "      <td>-122.25</td>\n",
       "      <td>37.85</td>\n",
       "      <td>52.0</td>\n",
       "      <td>1627.0</td>\n",
       "      <td>280.0</td>\n",
       "      <td>565.0</td>\n",
       "      <td>259.0</td>\n",
       "      <td>3.8462</td>\n",
       "      <td>342200.0</td>\n",
       "      <td>NEAR BAY</td>\n",
       "    </tr>\n",
       "    <tr>\n",
       "      <th>...</th>\n",
       "      <td>...</td>\n",
       "      <td>...</td>\n",
       "      <td>...</td>\n",
       "      <td>...</td>\n",
       "      <td>...</td>\n",
       "      <td>...</td>\n",
       "      <td>...</td>\n",
       "      <td>...</td>\n",
       "      <td>...</td>\n",
       "      <td>...</td>\n",
       "    </tr>\n",
       "    <tr>\n",
       "      <th>495</th>\n",
       "      <td>-122.25</td>\n",
       "      <td>37.86</td>\n",
       "      <td>52.0</td>\n",
       "      <td>4048.0</td>\n",
       "      <td>663.0</td>\n",
       "      <td>1316.0</td>\n",
       "      <td>590.0</td>\n",
       "      <td>5.3794</td>\n",
       "      <td>376900.0</td>\n",
       "      <td>NEAR BAY</td>\n",
       "    </tr>\n",
       "    <tr>\n",
       "      <th>496</th>\n",
       "      <td>-122.26</td>\n",
       "      <td>37.85</td>\n",
       "      <td>52.0</td>\n",
       "      <td>3618.0</td>\n",
       "      <td>768.0</td>\n",
       "      <td>1508.0</td>\n",
       "      <td>755.0</td>\n",
       "      <td>3.2619</td>\n",
       "      <td>309600.0</td>\n",
       "      <td>NEAR BAY</td>\n",
       "    </tr>\n",
       "    <tr>\n",
       "      <th>497</th>\n",
       "      <td>-122.27</td>\n",
       "      <td>37.85</td>\n",
       "      <td>52.0</td>\n",
       "      <td>4076.0</td>\n",
       "      <td>920.0</td>\n",
       "      <td>1800.0</td>\n",
       "      <td>815.0</td>\n",
       "      <td>2.7054</td>\n",
       "      <td>182300.0</td>\n",
       "      <td>NEAR BAY</td>\n",
       "    </tr>\n",
       "    <tr>\n",
       "      <th>498</th>\n",
       "      <td>-122.27</td>\n",
       "      <td>37.85</td>\n",
       "      <td>47.0</td>\n",
       "      <td>2077.0</td>\n",
       "      <td>400.0</td>\n",
       "      <td>719.0</td>\n",
       "      <td>326.0</td>\n",
       "      <td>2.2431</td>\n",
       "      <td>172700.0</td>\n",
       "      <td>NEAR BAY</td>\n",
       "    </tr>\n",
       "    <tr>\n",
       "      <th>499</th>\n",
       "      <td>-122.27</td>\n",
       "      <td>37.85</td>\n",
       "      <td>50.0</td>\n",
       "      <td>1279.0</td>\n",
       "      <td>300.0</td>\n",
       "      <td>675.0</td>\n",
       "      <td>255.0</td>\n",
       "      <td>1.9028</td>\n",
       "      <td>150800.0</td>\n",
       "      <td>NEAR BAY</td>\n",
       "    </tr>\n",
       "  </tbody>\n",
       "</table>\n",
       "<p>500 rows × 10 columns</p>\n",
       "</div>"
      ],
      "text/plain": [
       "     longitude  latitude  housing_median_age  total_rooms  total_bedrooms  \\\n",
       "0      -122.23     37.88                41.0        880.0           129.0   \n",
       "1      -122.22     37.86                21.0       7099.0          1106.0   \n",
       "2      -122.24     37.85                52.0       1467.0           190.0   \n",
       "3      -122.25     37.85                52.0       1274.0           235.0   \n",
       "4      -122.25     37.85                52.0       1627.0           280.0   \n",
       "..         ...       ...                 ...          ...             ...   \n",
       "495    -122.25     37.86                52.0       4048.0           663.0   \n",
       "496    -122.26     37.85                52.0       3618.0           768.0   \n",
       "497    -122.27     37.85                52.0       4076.0           920.0   \n",
       "498    -122.27     37.85                47.0       2077.0           400.0   \n",
       "499    -122.27     37.85                50.0       1279.0           300.0   \n",
       "\n",
       "     population  households  median_income  median_house_value ocean_proximity  \n",
       "0         322.0       126.0         8.3252            452600.0        NEAR BAY  \n",
       "1        2401.0      1138.0         8.3014            358500.0        NEAR BAY  \n",
       "2         496.0       177.0         7.2574            352100.0        NEAR BAY  \n",
       "3         558.0       219.0         5.6431            341300.0        NEAR BAY  \n",
       "4         565.0       259.0         3.8462            342200.0        NEAR BAY  \n",
       "..          ...         ...            ...                 ...             ...  \n",
       "495      1316.0       590.0         5.3794            376900.0        NEAR BAY  \n",
       "496      1508.0       755.0         3.2619            309600.0        NEAR BAY  \n",
       "497      1800.0       815.0         2.7054            182300.0        NEAR BAY  \n",
       "498       719.0       326.0         2.2431            172700.0        NEAR BAY  \n",
       "499       675.0       255.0         1.9028            150800.0        NEAR BAY  \n",
       "\n",
       "[500 rows x 10 columns]"
      ]
     },
     "execution_count": 311,
     "metadata": {},
     "output_type": "execute_result"
    }
   ],
   "source": [
    "df.head(500)\n"
   ]
  },
  {
   "cell_type": "code",
   "execution_count": 312,
   "id": "6eccc412",
   "metadata": {},
   "outputs": [
    {
     "name": "stdout",
     "output_type": "stream",
     "text": [
      "longitude               0\n",
      "latitude                0\n",
      "housing_median_age      0\n",
      "total_rooms             0\n",
      "total_bedrooms        207\n",
      "population              0\n",
      "households              0\n",
      "median_income           0\n",
      "median_house_value      0\n",
      "ocean_proximity         0\n",
      "dtype: int64\n"
     ]
    }
   ],
   "source": [
    "print(df.isnull().sum())\n"
   ]
  },
  {
   "cell_type": "code",
   "execution_count": 313,
   "id": "34c91561",
   "metadata": {},
   "outputs": [
    {
     "name": "stdout",
     "output_type": "stream",
     "text": [
      "Before: (20640, 10)\n",
      "After: (20433, 10)\n"
     ]
    }
   ],
   "source": [
    "print(\"Before:\", df.shape)\n",
    "df.dropna(inplace=True)\n",
    "print(\"After:\", df.shape) # to remove any rows with any nan values\n"
   ]
  },
  {
   "cell_type": "code",
   "execution_count": 314,
   "id": "7e8cf642",
   "metadata": {},
   "outputs": [
    {
     "name": "stdout",
     "output_type": "stream",
     "text": [
      "['NEAR BAY' '<1H OCEAN' 'INLAND' 'NEAR OCEAN' 'ISLAND']\n"
     ]
    }
   ],
   "source": [
    "print(df['ocean_proximity'].unique())\n"
   ]
  },
  {
   "cell_type": "code",
   "execution_count": 315,
   "id": "afbd82b8",
   "metadata": {},
   "outputs": [],
   "source": [
    "mappr = {\n",
    "    'NEAR BAY': 0,\n",
    "    '<1H OCEAN': 1,\n",
    "    'INLAND': 2,\n",
    "    'NEAR OCEAN': 3,\n",
    "    'ISLAND': 4\n",
    "}\n",
    "\n",
    "# Now replace the values in the column\n",
    "df['ocean_proximity'] = df['ocean_proximity'].map(mappr)\n"
   ]
  },
  {
   "cell_type": "code",
   "execution_count": 316,
   "id": "1dd966d7",
   "metadata": {},
   "outputs": [
    {
     "data": {
      "text/html": [
       "<div>\n",
       "<style scoped>\n",
       "    .dataframe tbody tr th:only-of-type {\n",
       "        vertical-align: middle;\n",
       "    }\n",
       "\n",
       "    .dataframe tbody tr th {\n",
       "        vertical-align: top;\n",
       "    }\n",
       "\n",
       "    .dataframe thead th {\n",
       "        text-align: right;\n",
       "    }\n",
       "</style>\n",
       "<table border=\"1\" class=\"dataframe\">\n",
       "  <thead>\n",
       "    <tr style=\"text-align: right;\">\n",
       "      <th></th>\n",
       "      <th>longitude</th>\n",
       "      <th>latitude</th>\n",
       "      <th>housing_median_age</th>\n",
       "      <th>total_rooms</th>\n",
       "      <th>total_bedrooms</th>\n",
       "      <th>population</th>\n",
       "      <th>households</th>\n",
       "      <th>median_income</th>\n",
       "      <th>median_house_value</th>\n",
       "      <th>ocean_proximity</th>\n",
       "    </tr>\n",
       "  </thead>\n",
       "  <tbody>\n",
       "    <tr>\n",
       "      <th>0</th>\n",
       "      <td>-122.23</td>\n",
       "      <td>37.88</td>\n",
       "      <td>41.0</td>\n",
       "      <td>880.0</td>\n",
       "      <td>129.0</td>\n",
       "      <td>322.0</td>\n",
       "      <td>126.0</td>\n",
       "      <td>8.3252</td>\n",
       "      <td>452600.0</td>\n",
       "      <td>0</td>\n",
       "    </tr>\n",
       "    <tr>\n",
       "      <th>1</th>\n",
       "      <td>-122.22</td>\n",
       "      <td>37.86</td>\n",
       "      <td>21.0</td>\n",
       "      <td>7099.0</td>\n",
       "      <td>1106.0</td>\n",
       "      <td>2401.0</td>\n",
       "      <td>1138.0</td>\n",
       "      <td>8.3014</td>\n",
       "      <td>358500.0</td>\n",
       "      <td>0</td>\n",
       "    </tr>\n",
       "    <tr>\n",
       "      <th>2</th>\n",
       "      <td>-122.24</td>\n",
       "      <td>37.85</td>\n",
       "      <td>52.0</td>\n",
       "      <td>1467.0</td>\n",
       "      <td>190.0</td>\n",
       "      <td>496.0</td>\n",
       "      <td>177.0</td>\n",
       "      <td>7.2574</td>\n",
       "      <td>352100.0</td>\n",
       "      <td>0</td>\n",
       "    </tr>\n",
       "    <tr>\n",
       "      <th>3</th>\n",
       "      <td>-122.25</td>\n",
       "      <td>37.85</td>\n",
       "      <td>52.0</td>\n",
       "      <td>1274.0</td>\n",
       "      <td>235.0</td>\n",
       "      <td>558.0</td>\n",
       "      <td>219.0</td>\n",
       "      <td>5.6431</td>\n",
       "      <td>341300.0</td>\n",
       "      <td>0</td>\n",
       "    </tr>\n",
       "    <tr>\n",
       "      <th>4</th>\n",
       "      <td>-122.25</td>\n",
       "      <td>37.85</td>\n",
       "      <td>52.0</td>\n",
       "      <td>1627.0</td>\n",
       "      <td>280.0</td>\n",
       "      <td>565.0</td>\n",
       "      <td>259.0</td>\n",
       "      <td>3.8462</td>\n",
       "      <td>342200.0</td>\n",
       "      <td>0</td>\n",
       "    </tr>\n",
       "  </tbody>\n",
       "</table>\n",
       "</div>"
      ],
      "text/plain": [
       "   longitude  latitude  housing_median_age  total_rooms  total_bedrooms  \\\n",
       "0    -122.23     37.88                41.0        880.0           129.0   \n",
       "1    -122.22     37.86                21.0       7099.0          1106.0   \n",
       "2    -122.24     37.85                52.0       1467.0           190.0   \n",
       "3    -122.25     37.85                52.0       1274.0           235.0   \n",
       "4    -122.25     37.85                52.0       1627.0           280.0   \n",
       "\n",
       "   population  households  median_income  median_house_value  ocean_proximity  \n",
       "0       322.0       126.0         8.3252            452600.0                0  \n",
       "1      2401.0      1138.0         8.3014            358500.0                0  \n",
       "2       496.0       177.0         7.2574            352100.0                0  \n",
       "3       558.0       219.0         5.6431            341300.0                0  \n",
       "4       565.0       259.0         3.8462            342200.0                0  "
      ]
     },
     "execution_count": 316,
     "metadata": {},
     "output_type": "execute_result"
    }
   ],
   "source": [
    "df.head()"
   ]
  },
  {
   "cell_type": "code",
   "execution_count": 317,
   "id": "9a314d96",
   "metadata": {},
   "outputs": [],
   "source": [
    "X = df[[\"longitude\", \"latitude\",\t\"housing_median_age\",\t\"total_rooms\",\t\"total_bedrooms\",\t\"population\",\t\"households\",\t\"median_income\"\t,\t\"ocean_proximity\"]].values.tolist()\n",
    "y = df[\"median_house_value\"].tolist()"
   ]
  },
  {
   "cell_type": "code",
   "execution_count": 318,
   "id": "57db18c1",
   "metadata": {},
   "outputs": [
    {
     "name": "stdout",
     "output_type": "stream",
     "text": [
      "-0.09404055611238593\n",
      "[0.02788535969157674, -0.09499784895546662, -0.04499413632617615, -0.05535785237023545, 0.04729424283280248, 0.03533989748458227, 0.0784359135409691, -0.08261223347411678, -0.015615636062945915]\n"
     ]
    }
   ],
   "source": [
    "def get_random_weights(n):\n",
    "    random.seed(42)\n",
    "    weights = [random.uniform(-0.1, 0.1) for _ in range(n)]\n",
    "    bias = random.uniform(-0.1, 0.1)\n",
    "    return weights, bias\n",
    "\n",
    "initial_weights, initial_bias = get_random_weights(n=9)\n",
    "print(initial_bias)\n",
    "print(initial_weights)\n"
   ]
  },
  {
   "cell_type": "markdown",
   "id": "89bc8714",
   "metadata": {},
   "source": [
    "so above is the randomly generated initial weights and bias"
   ]
  },
  {
   "cell_type": "markdown",
   "id": "446457d2",
   "metadata": {},
   "source": [
    "now save this stuff in a file"
   ]
  },
  {
   "cell_type": "code",
   "execution_count": 319,
   "id": "98d2ca72",
   "metadata": {},
   "outputs": [],
   "source": [
    "import numpy as np\n",
    "\n",
    "# save weights and biass for future use in binary file\n",
    "np.save(\"initial_weights.npy\", np.array(initial_weights))\n",
    "np.save(\"initial_bias.npy\", np.array(initial_bias))\n"
   ]
  },
  {
   "cell_type": "code",
   "execution_count": 320,
   "id": "cb3427ef",
   "metadata": {},
   "outputs": [],
   "source": [
    "#prediction function\n",
    "def predict_single(xi, weights, bias):\n",
    "    return sum(w * x for w, x in zip(weights, xi)) + bias\n",
    "\n",
    "def predict_batch(X, weights, bias):\n",
    "    return [predict_single(xi, weights, bias) for xi in X]\n"
   ]
  },
  {
   "cell_type": "code",
   "execution_count": 321,
   "id": "fab8a507",
   "metadata": {},
   "outputs": [],
   "source": [
    "#loss function\n",
    "def mean_squared_error(y_true, y_pred):\n",
    "    n = len(y_true)\n",
    "    return sum((yt - yp) ** 2 for yt, yp in zip(y_true, y_pred)) / n\n"
   ]
  },
  {
   "cell_type": "code",
   "execution_count": 322,
   "id": "b6258ebc",
   "metadata": {},
   "outputs": [],
   "source": [
    "def compute_gradients(X, y_true, y_pred):\n",
    "    n = len(y_true)\n",
    "    n_features = len(X[0])\n",
    "    dw = [0.0] * n_features\n",
    "    db = 0.0\n",
    "\n",
    "    for xi, yi, y_hat in zip(X, y_true, y_pred):\n",
    "        error = y_hat - yi\n",
    "        for j in range(n_features):\n",
    "            dw[j] += error * xi[j]\n",
    "        db += error\n",
    "\n",
    "    dw = [d / n for d in dw]\n",
    "    db /= n\n",
    "    return dw, db\n"
   ]
  },
  {
   "cell_type": "code",
   "execution_count": 323,
   "id": "ab191593",
   "metadata": {},
   "outputs": [],
   "source": [
    "def train(X, y, weights, bias, learning_rate=0.01, epochs=100):\n",
    "    cost_history = []\n",
    "\n",
    "    for epoch in range(epochs):\n",
    "        y_pred = predict_batch(X, weights, bias)\n",
    "        cost = mean_squared_error(y, y_pred)\n",
    "        dw, db = compute_gradients(X, y, y_pred)\n",
    "\n",
    "        weights = [w - learning_rate * grad for w, grad in zip(weights, dw)]\n",
    "        bias = bias - learning_rate * db\n",
    "\n",
    "        cost_history.append(cost)\n",
    "        if epoch % 10 == 0:\n",
    "            print(f\"Epoch {epoch}, Cost: {cost}\")\n",
    "\n",
    "    return weights, bias, cost_history\n"
   ]
  },
  {
   "cell_type": "code",
   "execution_count": 324,
   "id": "63195c98",
   "metadata": {},
   "outputs": [],
   "source": [
    "#mae formula\n",
    "def mae(y_true, y_pred):\n",
    "    m = len(y_true)\n",
    "    absolute_errors = [abs(yt - yp) for yt, yp in zip(y_true, y_pred)]\n",
    "    return sum(absolute_errors) / m\n"
   ]
  },
  {
   "cell_type": "code",
   "execution_count": 325,
   "id": "5eabe22f",
   "metadata": {},
   "outputs": [],
   "source": [
    "#rmse formuila\n",
    "import math\n",
    "\n",
    "def rmse(y_true, y_pred):\n",
    "    m = len(y_true)\n",
    "    squared_errors = [(yt - yp) ** 2 for yt, yp in zip(y_true, y_pred)]\n",
    "    mse = sum(squared_errors) / m\n",
    "    return math.sqrt(mse)\n"
   ]
  },
  {
   "cell_type": "code",
   "execution_count": 326,
   "id": "ec693cb5",
   "metadata": {},
   "outputs": [],
   "source": [
    "#r2 score formula\n",
    "def r2(y_true, y_pred):\n",
    "    mean_y = sum(y_true) / len(y_true)\n",
    "    ss_total = sum((yt - mean_y) ** 2 for yt in y_true)\n",
    "    ss_residual = sum((yt - yp) ** 2 for yt, yp in zip(y_true, y_pred))\n",
    "    return 1 - (ss_residual / ss_total)\n"
   ]
  },
  {
   "cell_type": "code",
   "execution_count": 327,
   "id": "1ebbda3e",
   "metadata": {},
   "outputs": [],
   "source": [
    "def train_test_split_along_with_indices(X, y, test_ratio=0.2, seed=42):\n",
    "    import random\n",
    "    random.seed(seed)\n",
    "    indices = list(range(len(X)))\n",
    "    random.shuffle(indices)\n",
    "    split = int(len(X) * (1 - test_ratio))\n",
    "    train_idx, test_idx = indices[:split], indices[split:]\n",
    "\n",
    "    X_train = [X[i] for i in train_idx]\n",
    "    y_train = [y[i] for i in train_idx]\n",
    "    X_test = [X[i] for i in test_idx]\n",
    "    y_test = [y[i] for i in test_idx]\n",
    "    return X_train, X_test, y_train, y_test, train_idx, test_idx\n"
   ]
  },
  {
   "cell_type": "code",
   "execution_count": 328,
   "id": "03331650",
   "metadata": {},
   "outputs": [],
   "source": [
    "X_train, X_test, y_train, y_test, train_idx, test_idx = train_test_split_along_with_indices(X, y, test_ratio=0.2, seed=42)\n",
    "with open(\"split_indices.pkl\", \"wb\") as f:\n",
    "    pickle.dump((train_idx, test_idx), f)"
   ]
  },
  {
   "cell_type": "code",
   "execution_count": 329,
   "id": "fa23c22b",
   "metadata": {},
   "outputs": [
    {
     "name": "stdout",
     "output_type": "stream",
     "text": [
      "Epoch 0, Cost: 56397845634.338715\n",
      "Epoch 10, Cost: 7.667319359364348e+33\n",
      "Epoch 20, Cost: 2.0593382106829435e+57\n",
      "Epoch 30, Cost: 5.531103723753826e+80\n",
      "Epoch 40, Cost: 1.4855796024285665e+104\n",
      "Epoch 50, Cost: 3.990065754279589e+127\n",
      "Epoch 60, Cost: 1.0716776601838019e+151\n",
      "Epoch 70, Cost: 2.878381154759758e+174\n",
      "Epoch 80, Cost: 7.730942222547831e+197\n",
      "Epoch 90, Cost: 2.0764264506644126e+221\n"
     ]
    }
   ],
   "source": [
    "weights, bias, cost_history = train(X_train, y_train, initial_weights, initial_bias, learning_rate=0.000001, epochs=100)\n"
   ]
  },
  {
   "cell_type": "code",
   "execution_count": 330,
   "id": "b9e59722",
   "metadata": {},
   "outputs": [],
   "source": [
    "def normalize_features(X):\n",
    "    n_features = len(X[0])\n",
    "    means = [sum(x[i] for x in X) / len(X) for i in range(n_features)]\n",
    "    stds = []\n",
    "    for i in range(n_features):\n",
    "        variance = sum((x[i] - means[i])**2 for x in X) / len(X)\n",
    "        stds.append(variance**0.5 if variance > 0 else 1)\n",
    "    \n",
    "    X_norm = []\n",
    "    for xi in X:\n",
    "        normalized = [(xi[i] - means[i]) / stds[i] for i in range(n_features)]\n",
    "        X_norm.append(normalized)\n",
    "    return X_norm, means, stds\n",
    "\n",
    "X_train_norm, means, stds = normalize_features(X_train)\n",
    "\n",
    "# Normalize test set using same train means and stds:\n",
    "def normalize_with_params(X, means, stds):\n",
    "    X_norm = []\n",
    "    for xi in X:\n",
    "        normalized = [(xi[i] - means[i]) / stds[i] for i in range(len(xi))]\n",
    "        X_norm.append(normalized)\n",
    "    return X_norm\n",
    "\n",
    "X_test_norm = normalize_with_params(X_test, means, stds)\n"
   ]
  },
  {
   "cell_type": "code",
   "execution_count": 331,
   "id": "7827b502",
   "metadata": {},
   "outputs": [],
   "source": [
    "import pandas as pd\n",
    "\n",
    "# Create a DataFrame from X_train\n",
    "train_df = pd.DataFrame(X_train, columns=X)\n",
    "test_df = pd.DataFrame(X_test, columns=X)\n"
   ]
  },
  {
   "cell_type": "code",
   "execution_count": 332,
   "id": "b794dd46",
   "metadata": {},
   "outputs": [],
   "source": [
    "means = train_df.mean()\n",
    "stds = train_df.std()\n"
   ]
  },
  {
   "cell_type": "code",
   "execution_count": 333,
   "id": "afac3d95",
   "metadata": {},
   "outputs": [],
   "source": [
    "X_train_normalized = ((train_df - means) / stds).values.tolist()\n",
    "X_test_normalized = ((test_df - means) / stds).values.tolist()\n"
   ]
  },
  {
   "cell_type": "code",
   "execution_count": 334,
   "id": "df7e42a9",
   "metadata": {},
   "outputs": [
    {
     "name": "stdout",
     "output_type": "stream",
     "text": [
      "Epoch 0, Cost: 56378095811.23393\n",
      "Epoch 10, Cost: 5811651169.430702\n",
      "Epoch 20, Cost: 5433295088.895221\n",
      "Epoch 30, Cost: 5235580021.583471\n",
      "Epoch 40, Cost: 5113738160.735052\n",
      "Epoch 50, Cost: 5037120917.31106\n",
      "Epoch 60, Cost: 4988196183.979415\n",
      "Epoch 70, Cost: 4956540364.815815\n",
      "Epoch 80, Cost: 4935804720.222522\n",
      "Epoch 90, Cost: 4922053275.855397\n",
      "Epoch 100, Cost: 4912813340.218563\n",
      "Epoch 110, Cost: 4906515330.879802\n",
      "Epoch 120, Cost: 4902154249.547701\n",
      "Epoch 130, Cost: 4899081511.827003\n",
      "Epoch 140, Cost: 4896875314.220774\n",
      "Epoch 150, Cost: 4895259149.708495\n",
      "Epoch 160, Cost: 4894050211.271817\n",
      "Epoch 170, Cost: 4893126517.174885\n",
      "Epoch 180, Cost: 4892405844.978999\n",
      "Epoch 190, Cost: 4891832156.305758\n",
      "Epoch 200, Cost: 4891366797.391007\n",
      "Epoch 210, Cost: 4890982759.396302\n",
      "Epoch 220, Cost: 4890660908.897556\n",
      "Epoch 230, Cost: 4890387493.771586\n",
      "Epoch 240, Cost: 4890152479.536122\n",
      "Epoch 250, Cost: 4889948429.891857\n",
      "Epoch 260, Cost: 4889769746.390608\n",
      "Epoch 270, Cost: 4889612146.9098835\n",
      "Epoch 280, Cost: 4889472304.236526\n",
      "Epoch 290, Cost: 4889347592.940535\n",
      "Epoch 300, Cost: 4889235910.168529\n",
      "Epoch 310, Cost: 4889135547.378973\n",
      "Epoch 320, Cost: 4889045097.528138\n",
      "Epoch 330, Cost: 4888963387.17056\n",
      "Epoch 340, Cost: 4888889426.242077\n",
      "Epoch 350, Cost: 4888822370.51516\n",
      "Epoch 360, Cost: 4888761493.222757\n",
      "Epoch 370, Cost: 4888706163.3777\n",
      "Epoch 380, Cost: 4888655829.026366\n",
      "Epoch 390, Cost: 4888610004.171126\n",
      "Epoch 400, Cost: 4888568258.444664\n",
      "Epoch 410, Cost: 4888530208.86648\n",
      "Epoch 420, Cost: 4888495513.188636\n",
      "Epoch 430, Cost: 4888463864.465265\n",
      "Epoch 440, Cost: 4888434986.572892\n",
      "Epoch 450, Cost: 4888408630.476342\n",
      "Epoch 460, Cost: 4888384571.084826\n",
      "Epoch 470, Cost: 4888362604.579744\n",
      "Epoch 480, Cost: 4888342546.123243\n",
      "Epoch 490, Cost: 4888324227.877189\n",
      "Epoch 500, Cost: 4888307497.277748\n",
      "Epoch 510, Cost: 4888292215.5225315\n",
      "Epoch 520, Cost: 4888278256.236207\n",
      "Epoch 530, Cost: 4888265504.287386\n",
      "Epoch 540, Cost: 4888253854.734789\n",
      "Epoch 550, Cost: 4888243211.884893\n",
      "Epoch 560, Cost: 4888233488.446365\n",
      "Epoch 570, Cost: 4888224604.769142\n",
      "Epoch 580, Cost: 4888216488.157992\n",
      "Epoch 590, Cost: 4888209072.251967\n",
      "Epoch 600, Cost: 4888202296.462416\n",
      "Epoch 610, Cost: 4888196105.463297\n",
      "Epoch 620, Cost: 4888190448.728329\n",
      "Epoch 630, Cost: 4888185280.110244\n",
      "Epoch 640, Cost: 4888180557.457977\n",
      "Epoch 650, Cost: 4888176242.268122\n",
      "Epoch 660, Cost: 4888172299.367386\n",
      "Epoch 670, Cost: 4888168696.623155\n",
      "Epoch 680, Cost: 4888165404.679545\n",
      "Epoch 690, Cost: 4888162396.716652\n",
      "Epoch 700, Cost: 4888159648.230845\n",
      "Epoch 710, Cost: 4888157136.8342705\n",
      "Epoch 720, Cost: 4888154842.0718\n",
      "Epoch 730, Cost: 4888152745.253923\n",
      "Epoch 740, Cost: 4888150829.304141\n",
      "Epoch 750, Cost: 4888149078.619598\n",
      "Epoch 760, Cost: 4888147478.943805\n",
      "Epoch 770, Cost: 4888146017.250363\n",
      "Epoch 780, Cost: 4888144681.636772\n",
      "Epoch 790, Cost: 4888143461.227406\n",
      "Epoch 800, Cost: 4888142346.084886\n",
      "Epoch 810, Cost: 4888141327.12911\n",
      "Epoch 820, Cost: 4888140396.063272\n",
      "Epoch 830, Cost: 4888139545.306275\n",
      "Epoch 840, Cost: 4888138767.9309845\n",
      "Epoch 850, Cost: 4888138057.607799\n",
      "Epoch 860, Cost: 4888137408.553106\n",
      "Epoch 870, Cost: 4888136815.48218\n",
      "Epoch 880, Cost: 4888136273.566137\n",
      "Epoch 890, Cost: 4888135778.392626\n",
      "Epoch 900, Cost: 4888135325.929882\n",
      "Epoch 910, Cost: 4888134912.49391\n",
      "Epoch 920, Cost: 4888134534.718476\n",
      "Epoch 930, Cost: 4888134189.527706\n",
      "Epoch 940, Cost: 4888133874.111032\n",
      "Epoch 950, Cost: 4888133585.900311\n",
      "Epoch 960, Cost: 4888133322.548919\n",
      "Epoch 970, Cost: 4888133081.912635\n",
      "Epoch 980, Cost: 4888132862.0321865\n",
      "Epoch 990, Cost: 4888132661.117301\n",
      "fitting time for pure python implementation is: 24.3548 seconds\n"
     ]
    }
   ],
   "source": [
    "start_time = time.time()\n",
    "\n",
    "weights, bias, cost_history = train(\n",
    "    X_train_normalized,\n",
    "    y_train,\n",
    "    initial_weights,\n",
    "    initial_bias,\n",
    "    learning_rate=0.3,\n",
    "    epochs=1000\n",
    ")\n",
    "\n",
    "end_time = time.time()\n",
    "\n",
    "print(f\"fitting time for pure python implementation is: {end_time - start_time:.4f} seconds\")\n"
   ]
  },
  {
   "cell_type": "code",
   "execution_count": 335,
   "id": "f83d94ce",
   "metadata": {},
   "outputs": [
    {
     "data": {
      "image/png": "[encoded data removed]",
      "text/plain": [
       "<Figure size 640x480 with 1 Axes>"
      ]
     },
     "metadata": {},
     "output_type": "display_data"
    }
   ],
   "source": [
    "import matplotlib.pyplot as plt\n",
    "\n",
    "plt.plot(range(len(cost_history)), cost_history)\n",
    "plt.xlabel(\"Epoch\")\n",
    "plt.ylabel(\"Cost (MSE)\")\n",
    "plt.title(\"Cost vs Epochs\")\n",
    "plt.grid(True)\n",
    "plt.show()\n"
   ]
  },
  {
   "cell_type": "code",
   "execution_count": null,
   "id": "8e03481a",
   "metadata": {},
   "outputs": [
    {
     "data": {
      "text/plain": [
       "<Figure size 640x480 with 0 Axes>"
      ]
     },
     "metadata": {},
     "output_type": "display_data"
    }
   ],
   "source": [
    "plt.savefig('purepython_cost_vs_epoch.png')\n"
   ]
  },
  {
   "cell_type": "code",
   "execution_count": 336,
   "id": "d5bc6452",
   "metadata": {},
   "outputs": [],
   "source": [
    "y_pred_test = predict_batch(X_test_normalized, weights, bias)\n",
    "y_pred_train = predict_batch(X_train_normalized, weights, bias)\n"
   ]
  },
  {
   "cell_type": "code",
   "execution_count": 337,
   "id": "1ae11293",
   "metadata": {},
   "outputs": [
    {
     "name": "stdout",
     "output_type": "stream",
     "text": [
      "for train\n",
      "MAE: 51014.60689613549\n",
      "RMSE: 69915.18059428954\n",
      "R2: 0.6328571488870136\n"
     ]
    }
   ],
   "source": [
    "mae_train = mae(y_train, y_pred_train)\n",
    "rmse_train = rmse(y_train, y_pred_train)\n",
    "r2_train = r2(y_train, y_pred_train)\n",
    "\n",
    "print(\"for train\")\n",
    "print(\"MAE:\", mae_train)\n",
    "print(\"RMSE:\", rmse_train)\n",
    "print(\"R2:\", r2_train)\n"
   ]
  },
  {
   "cell_type": "code",
   "execution_count": 338,
   "id": "08d205dd",
   "metadata": {},
   "outputs": [
    {
     "name": "stdout",
     "output_type": "stream",
     "text": [
      "for test\n",
      "MAE: 50341.61125316037\n",
      "RMSE: 67983.98892062738\n",
      "R2: 0.6540349282604752\n"
     ]
    }
   ],
   "source": [
    "mae = mae(y_test, y_pred_test)\n",
    "rmse = rmse(y_test, y_pred_test)\n",
    "r2 = r2(y_test, y_pred_test)\n",
    "print(\"for test\")\n",
    "print(\"MAE:\", mae)\n",
    "print(\"RMSE:\", rmse)\n",
    "print(\"R2:\", r2)\n"
   ]
  },
  {
   "cell_type": "code",
   "execution_count": 339,
   "id": "e59f712b",
   "metadata": {},
   "outputs": [
    {
     "data": {
      "image/png": "[encoded data removed]",
      "text/plain": [
       "<Figure size 640x480 with 1 Axes>"
      ]
     },
     "metadata": {},
     "output_type": "display_data"
    }
   ],
   "source": [
    "plt.scatter(y_test, y_pred_test, alpha=0.3)\n",
    "plt.xlabel(\"True Median House Value\")\n",
    "plt.ylabel(\"Predicted Median House Value\")\n",
    "plt.title(\"Predicted vs Actual\")\n",
    "plt.grid(True)\n",
    "plt.show()\n"
   ]
  },
  {
   "cell_type": "code",
   "execution_count": 341,
   "id": "5386d2c3",
   "metadata": {},
   "outputs": [
    {
     "data": {
      "text/plain": [
       "<Figure size 640x480 with 0 Axes>"
      ]
     },
     "metadata": {},
     "output_type": "display_data"
    }
   ],
   "source": [
    "plt.savefig('purepython_scatterplot.png')\n"
   ]
  },
  {
   "cell_type": "code",
   "execution_count": null,
   "id": "754b9a19",
   "metadata": {},
   "outputs": [],
   "source": []
  }
 ],
 "metadata": {
  "kernelspec": {
   "display_name": "base",
   "language": "python",
   "name": "python3"
  },
  "language_info": {
   "codemirror_mode": {
    "name": "ipython",
    "version": 3
   },
   "file_extension": ".py",
   "mimetype": "text/x-python",
   "name": "python",
   "nbconvert_exporter": "python",
   "pygments_lexer": "ipython3",
   "version": "3.12.7"
  }
 },
 "nbformat": 4,
 "nbformat_minor": 5
}
